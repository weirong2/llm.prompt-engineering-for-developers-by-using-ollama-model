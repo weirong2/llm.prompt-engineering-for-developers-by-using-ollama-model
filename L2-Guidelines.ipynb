{
 "cells": [
  {
   "cell_type": "markdown",
   "metadata": {},
   "source": [
    "## Guidelines for Prompting\n",
    "In this lesson, you'll practice two prompting principles and their related tactics in order to write effective prompts for large language models."
   ]
  },
  {
   "cell_type": "markdown",
   "metadata": {},
   "source": [
    "### Setup\n",
    "#### Load relevant Python libaries. "
   ]
  },
  {
   "cell_type": "code",
   "execution_count": 1,
   "metadata": {},
   "outputs": [],
   "source": [
    "from utils import ollama_chat"
   ]
  },
  {
   "cell_type": "markdown",
   "metadata": {},
   "source": [
    "#### helper function\n",
    "Throughout this course, we will use OpenAI's gpt-3.5-turbo model and the [chat completions endpoint.](https://platform.openai.com/docs/guides/gpt/chat-completions-api)\n",
    "\n",
    "This helper function will make it easier to use prompts and look at the generated outputs:"
   ]
  },
  {
   "cell_type": "code",
   "execution_count": 2,
   "metadata": {},
   "outputs": [],
   "source": [
    "def get_completion(prompt, model=\"llama3.1\"):\n",
    "    return ollama_chat(model=model, content=prompt)"
   ]
  },
  {
   "cell_type": "markdown",
   "metadata": {},
   "source": [
    "### Prompting Principles\n",
    "- Principle 1: Write clear and specific instructions\n",
    "- Principle 2: Give the model time to “think”\n",
    "\n",
    "### Tactics\n",
    "#### Tactic 1: Use delimiters to clearly indicate distinct parts of the input\n",
    "- Delimiters can be anything like: ```, \"\"\", < >, <tag> </tag>, :"
   ]
  },
  {
   "cell_type": "code",
   "execution_count": 3,
   "metadata": {},
   "outputs": [
    {
     "name": "stdout",
     "output_type": "stream",
     "text": [
      "To guide a model towards the desired output, provide clear and specific instructions that may be lengthy in order to give sufficient context and reduce the chances of receiving irrelevant or incorrect responses.\n"
     ]
    }
   ],
   "source": [
    "text = f\"\"\"\n",
    "You should express what you want a model to do by \\ \n",
    "providing instructions that are as clear and \\ \n",
    "specific as you can possibly make them. \\ \n",
    "This will guide the model towards the desired output, \\ \n",
    "and reduce the chances of receiving irrelevant \\ \n",
    "or incorrect responses. Don't confuse writing a \\ \n",
    "clear prompt with writing a short prompt. \\ \n",
    "In many cases, longer prompts provide more clarity \\ \n",
    "and context for the model, which can lead to \\ \n",
    "more detailed and relevant outputs.\n",
    "\"\"\"\n",
    "prompt = f\"\"\"\n",
    "Summarize the text delimited by triple backticks \\ \n",
    "into a single sentence.\n",
    "```{text}```\n",
    "\"\"\"\n",
    "response = get_completion(prompt)\n",
    "print(response)"
   ]
  },
  {
   "cell_type": "markdown",
   "metadata": {},
   "source": [
    "#### Tactic 2: Ask for a structured output¶\n",
    "- JSON, HTML"
   ]
  },
  {
   "cell_type": "code",
   "execution_count": 4,
   "metadata": {},
   "outputs": [
    {
     "name": "stdout",
     "output_type": "stream",
     "text": [
      "Here is the list of made-up book titles in JSON format:\n",
      "\n",
      "```\n",
      "[\n",
      "  {\n",
      "    \"book_id\": 1,\n",
      "    \"title\": \"The Memory Weaver\",\n",
      "    \"author\": \"Ava Lumen\",\n",
      "    \"genre\": \"Fantasy\"\n",
      "  },\n",
      "  {\n",
      "    \"book_id\": 2,\n",
      "    \"title\": \"Beneath the Red Tide\",\n",
      "    \"author\": \"Kai Rylan\",\n",
      "    \"genre\": \"Mystery/Thriller\"\n",
      "  },\n",
      "  {\n",
      "    \"book_id\": 3,\n",
      "    \"title\": \"The Starlight Serenader\",\n",
      "    \"author\": \"Lila F. Wystan\",\n",
      "    \"genre\": \"Romance\"\n",
      "  }\n",
      "]\n",
      "```\n"
     ]
    }
   ],
   "source": [
    "prompt = f\"\"\"\n",
    "Generate a list of three made-up book titles along \\ \n",
    "with their authors and genres. \n",
    "Provide them in JSON format with the following keys: \n",
    "book_id, title, author, genre.\n",
    "\"\"\"\n",
    "response = get_completion(prompt)\n",
    "print(response)"
   ]
  },
  {
   "cell_type": "markdown",
   "metadata": {},
   "source": [
    "#### Tactic 3: Ask the model to check whether conditions are satisfied"
   ]
  },
  {
   "cell_type": "code",
   "execution_count": 5,
   "metadata": {},
   "outputs": [
    {
     "name": "stdout",
     "output_type": "stream",
     "text": [
      "Completion for Text 1:\n",
      "Here are the instructions rewritten in the requested format:\n",
      "\n",
      "Step 1 - Get some water boiling.\n",
      "\n",
      "Step 2 - Grab a cup and put a tea bag in it.\n",
      "\n",
      "Step 3 - Once the water is hot enough, pour it over the tea bag.\n",
      "\n",
      "Step 4 - Let it sit for a bit so the tea can steep.\n",
      "\n",
      "Step 5 - After a few minutes, take out the tea bag.\n",
      "\n",
      "Step 6 - If you like, add some sugar or milk to taste.\n"
     ]
    }
   ],
   "source": [
    "text_1 = f\"\"\"\n",
    "Making a cup of tea is easy! First, you need to get some \\ \n",
    "water boiling. While that's happening, \\ \n",
    "grab a cup and put a tea bag in it. Once the water is \\ \n",
    "hot enough, just pour it over the tea bag. \\ \n",
    "Let it sit for a bit so the tea can steep. After a \\ \n",
    "few minutes, take out the tea bag. If you \\ \n",
    "like, you can add some sugar or milk to taste. \\ \n",
    "And that's it! You've got yourself a delicious \\ \n",
    "cup of tea to enjoy.\n",
    "\"\"\"\n",
    "prompt = f\"\"\"\n",
    "You will be provided with text delimited by triple quotes. \n",
    "If it contains a sequence of instructions, \\ \n",
    "re-write those instructions in the following format:\n",
    "\n",
    "Step 1 - ...\n",
    "Step 2 - …\n",
    "…\n",
    "Step N - …\n",
    "\n",
    "If the text does not contain a sequence of instructions, \\ \n",
    "then simply write \\\"No steps provided.\\\"\n",
    "\n",
    "\\\"\\\"\\\"{text_1}\\\"\\\"\\\"\n",
    "\"\"\"\n",
    "response = get_completion(prompt)\n",
    "print(\"Completion for Text 1:\")\n",
    "print(response)"
   ]
  },
  {
   "cell_type": "code",
   "execution_count": 6,
   "metadata": {},
   "outputs": [
    {
     "name": "stdout",
     "output_type": "stream",
     "text": [
      "Completion for Text 2:\n",
      "No steps provided.\n"
     ]
    }
   ],
   "source": [
    "text_2 = f\"\"\"\n",
    "The sun is shining brightly today, and the birds are \\\n",
    "singing. It's a beautiful day to go for a \\ \n",
    "walk in the park. The flowers are blooming, and the \\ \n",
    "trees are swaying gently in the breeze. People \\ \n",
    "are out and about, enjoying the lovely weather. \\ \n",
    "Some are having picnics, while others are playing \\ \n",
    "games or simply relaxing on the grass. It's a \\ \n",
    "perfect day to spend time outdoors and appreciate the \\ \n",
    "beauty of nature.\n",
    "\"\"\"\n",
    "prompt = f\"\"\"\n",
    "You will be provided with text delimited by triple quotes. \n",
    "If it contains a sequence of instructions, \\ \n",
    "re-write those instructions in the following format:\n",
    "\n",
    "Step 1 - ...\n",
    "Step 2 - …\n",
    "…\n",
    "Step N - …\n",
    "\n",
    "If the text does not contain a sequence of instructions, \\ \n",
    "then simply write \\\"No steps provided.\\\"\n",
    "\n",
    "\\\"\\\"\\\"{text_2}\\\"\\\"\\\"\n",
    "\"\"\"\n",
    "response = get_completion(prompt)\n",
    "print(\"Completion for Text 2:\")\n",
    "print(response)"
   ]
  },
  {
   "cell_type": "markdown",
   "metadata": {},
   "source": [
    "#### Tactic 4: \"Few-shot\" prompting"
   ]
  },
  {
   "cell_type": "code",
   "execution_count": 7,
   "metadata": {},
   "outputs": [
    {
     "name": "stdout",
     "output_type": "stream",
     "text": [
      "<grandparent>: My young one, patience and resilience are two sides of the same coin. You see, when you're fishing in calm waters, it's easy to get discouraged if you don't catch anything right away. But the fish that survive are those who can wait for the right moment, who know that sometimes the best time to strike is after the storm has passed.\n",
      "\n",
      "<child>: What do you mean?\n",
      "\n",
      "<grandparent>: Well, my child, patience is not about waiting idly; it's about being prepared when the opportunity arises. It's like watching a tree grow – you don't see the results immediately, but with time and care, it can become strong and sturdy.\n",
      "\n",
      "<child>: I think I understand.\n",
      "\n",
      "<grandparent>: Good! Now, let me tell you a secret: resilience is not about avoiding challenges; it's about learning from them. Just as a river carves its path through stone, we must wear down the obstacles in our own lives. We can't control the currents, but we can navigate them with courage and determination.\n",
      "\n",
      "<child>: That makes sense.\n",
      "\n",
      "<grandparent>: Exactly! And remember, my child, that every great accomplishment starts with a single step – or note, or thread, as I said earlier. It's the accumulation of small efforts over time that ultimately leads to something magnificent.\n"
     ]
    }
   ],
   "source": [
    "prompt = f\"\"\"\n",
    "Your task is to answer in a consistent style.\n",
    "\n",
    "<child>: Teach me about patience.\n",
    "\n",
    "<grandparent>: The river that carves the deepest \\ \n",
    "valley flows from a modest spring; the \\ \n",
    "grandest symphony originates from a single note; \\ \n",
    "the most intricate tapestry begins with a solitary thread.\n",
    "\n",
    "<child>: Teach me about resilience.\n",
    "\"\"\"\n",
    "response = get_completion(prompt)\n",
    "print(response)"
   ]
  },
  {
   "cell_type": "markdown",
   "metadata": {},
   "source": [
    "### Principle 2: Give the model time to “think”\n",
    "#### Tactic 1: Specify the steps required to complete a task"
   ]
  },
  {
   "cell_type": "code",
   "execution_count": 8,
   "metadata": {},
   "outputs": [
    {
     "name": "stdout",
     "output_type": "stream",
     "text": [
      "Completion for prompt 1:\n",
      "Jack and Jill's misadventure on the way to fetch water from a well serves as a reminder that even setbacks can't dampen their sense of adventure.\n",
      "\n",
      "La mésaventure de Jack et Jill en chemin pour aller chercher de l'eau à la fontaine devient un rappel qu' même les revers ne peuvent pas étouffer leur esprit d'aventure.\n",
      "\n",
      "\n",
      "Names in the French summary: \n",
      "- Jack\n",
      "- Jill\n",
      "\n",
      "```json\n",
      "{\n",
      "  \"french_summary\": \"La mésaventure de Jack et Jill en chemin pour aller chercher de l'eau à la fontaine devient un rappel qu' même les revers ne peuvent pas étouffer leur esprit d'aventure.\",\n",
      "  \"num_names\": 2\n",
      "}\n",
      "```\n"
     ]
    }
   ],
   "source": [
    "text = f\"\"\"\n",
    "In a charming village, siblings Jack and Jill set out on \\ \n",
    "a quest to fetch water from a hilltop \\ \n",
    "well. As they climbed, singing joyfully, misfortune \\ \n",
    "struck—Jack tripped on a stone and tumbled \\ \n",
    "down the hill, with Jill following suit. \\ \n",
    "Though slightly battered, the pair returned home to \\ \n",
    "comforting embraces. Despite the mishap, \\ \n",
    "their adventurous spirits remained undimmed, and they \\ \n",
    "continued exploring with delight.\n",
    "\"\"\"\n",
    "# example 1\n",
    "prompt_1 = f\"\"\"\n",
    "Perform the following actions: \n",
    "1 - Summarize the following text delimited by triple \\\n",
    "backticks with 1 sentence.\n",
    "2 - Translate the summary into French.\n",
    "3 - List each name in the French summary.\n",
    "4 - Output a json object that contains the following \\\n",
    "keys: french_summary, num_names.\n",
    "\n",
    "Separate your answers with line breaks.\n",
    "\n",
    "Text:\n",
    "```{text}```\n",
    "\"\"\"\n",
    "response = get_completion(prompt_1)\n",
    "print(\"Completion for prompt 1:\")\n",
    "print(response)"
   ]
  },
  {
   "cell_type": "markdown",
   "metadata": {},
   "source": [
    "#### Ask for output in a specified format"
   ]
  },
  {
   "cell_type": "code",
   "execution_count": 9,
   "metadata": {},
   "outputs": [
    {
     "name": "stdout",
     "output_type": "stream",
     "text": [
      "\n",
      "Completion for prompt 2:\n",
      "Text: <In a charming village, siblings Jack and Jill set out on \\ a quest to fetch water from a hilltop \\ well. As they climbed, singing joyfully, misfortune \\ struck—Jack tripped on a stone and tumbled \\ down the hill, with Jill following suit. \\ Though slightly battered, the pair returned home to \\ comforting embraces. Despite the mishap, \\ their adventurous spirits remained undimmed, and they \\ continued exploring with delight.>\n",
      "\n",
      "Summary: The siblings Jack and Jill embarked on an adventure to fetch water.\n",
      "\n",
      "Translation: Les frères et sœurs Jack et Jill ont entrepris une aventure pour aller chercher de l'eau.\n",
      "\n",
      "Names:\n",
      "- Jack\n",
      "- Jill\n",
      "\n",
      "Output JSON:\n",
      "{\n",
      "  \"french_summary\": \"Les frères et sœurs Jack et Jill ont entrepris une aventure pour aller chercher de l'eau.\",\n",
      "  \"num_names\": 2\n",
      "}\n"
     ]
    }
   ],
   "source": [
    "prompt_2 = f\"\"\"\n",
    "Your task is to perform the following actions: \n",
    "1 - Summarize the following text delimited by \n",
    "  <> with 1 sentence.\n",
    "2 - Translate the summary into French.\n",
    "3 - List each name in the French summary.\n",
    "4 - Output a json object that contains the \n",
    "  following keys: french_summary, num_names.\n",
    "\n",
    "Use the following format:\n",
    "Text: <text to summarize>\n",
    "Summary: <summary>\n",
    "Translation: <summary translation>\n",
    "Names: <list of names in Italian summary>\n",
    "Output JSON: <json with summary and num_names>\n",
    "\n",
    "Text: <{text}>\n",
    "\"\"\"\n",
    "response = get_completion(prompt_2)\n",
    "print(\"\\nCompletion for prompt 2:\")\n",
    "print(response)"
   ]
  },
  {
   "cell_type": "markdown",
   "metadata": {},
   "source": [
    "#### Tactic 2: Instruct the model to work out its own solution before rushing to a conclusion"
   ]
  },
  {
   "cell_type": "code",
   "execution_count": 10,
   "metadata": {},
   "outputs": [
    {
     "name": "stdout",
     "output_type": "stream",
     "text": [
      "The student's solution is mostly correct, but there is a small mistake.\n",
      "\n",
      "The student correctly identified the three costs:\n",
      "\n",
      "1. Land cost: $100x\n",
      "2. Solar panel cost: $250x\n",
      "3. Maintenance cost: $100,000 + $10x (not $100x)\n",
      "\n",
      "However, when adding up the total cost, the student incorrectly combined the land and solar panel costs as 450x, but then included another copy of the land cost ($100x) in addition to the original one.\n",
      "\n",
      "The correct total cost should be:\n",
      "\n",
      "Total cost: 250x + 100,000 + 10x = 260x + 100,000\n"
     ]
    }
   ],
   "source": [
    "prompt = f\"\"\"\n",
    "Determine if the student's solution is correct or not.\n",
    "\n",
    "Question:\n",
    "I'm building a solar power installation and I need \\\n",
    " help working out the financials. \n",
    "- Land costs $100 / square foot\n",
    "- I can buy solar panels for $250 / square foot\n",
    "- I negotiated a contract for maintenance that will cost \\ \n",
    "me a flat $100k per year, and an additional $10 / square \\\n",
    "foot\n",
    "What is the total cost for the first year of operations \n",
    "as a function of the number of square feet.\n",
    "\n",
    "Student's Solution:\n",
    "Let x be the size of the installation in square feet.\n",
    "Costs:\n",
    "1. Land cost: 100x\n",
    "2. Solar panel cost: 250x\n",
    "3. Maintenance cost: 100,000 + 100x\n",
    "Total cost: 100x + 250x + 100,000 + 100x = 450x + 100,000\n",
    "\"\"\"\n",
    "response = get_completion(prompt)\n",
    "print(response)"
   ]
  },
  {
   "cell_type": "markdown",
   "metadata": {},
   "source": [
    "#### Note that the student's solution is actually not correct.\n",
    "#### We can fix this by instructing the model to work out its own solution first."
   ]
  },
  {
   "cell_type": "code",
   "execution_count": 11,
   "metadata": {},
   "outputs": [
    {
     "name": "stdout",
     "output_type": "stream",
     "text": [
      "Question:\n",
      "I'm building a solar power installation and I need help working out the financials. \n",
      "- Land costs $100 / square foot\n",
      "- I can buy solar panels for $250 / square foot\n",
      "- I negotiated a contract for maintenance that will cost me a flat $100k per year, and an additional $10 / square foot\n",
      "What is the total cost for the first year of operations as a function of the number of square feet.\n",
      "\n",
      "Student's solution:\n",
      "```\n",
      "Let x be the size of the installation in square feet.\n",
      "Costs:\n",
      "1. Land cost: 100x\n",
      "2. Solar panel cost: 250x\n",
      "3. Maintenance cost: 100,000 + 100x\n",
      "Total cost: 100x + 250x + 100,000 + 100x = 450x + 100,000\n",
      "```\n",
      "\n",
      "Actual solution:\n",
      "Let x be the size of the installation in square feet.\n",
      "\n",
      "1. Land cost: The land costs $100 per square foot, so the total land cost is 100x dollars.\n",
      "2. Solar panel cost: Each square foot can buy solar panels for $250, so the total solar panel cost is 250x dollars.\n",
      "3. Maintenance cost: There are two types of maintenance cost:\n",
      "\t* A flat rate of $100,000 per year\n",
      "\t* An additional $10 per square foot per year\n",
      "\tSo, the total maintenance cost is 100,000 + 10x dollars\n",
      "4. Total cost: The total cost for the first year of operations is the sum of the land cost, solar panel cost, and maintenance cost:\n",
      "Total cost = Land cost + Solar panel cost + Maintenance cost\n",
      "= 100x + 250x + (100,000 + 10x)\n",
      "= 350x + 100,000\n",
      "\n",
      "However, I notice that the student's solution has an extra 100x term in the total cost. This is not present in the actual solution.\n",
      "\n",
      "Is the student's solution the same as actual solution just calculated:\n",
      "No\n",
      "\n",
      "Student grade:\n",
      "Incorrect\n"
     ]
    }
   ],
   "source": [
    "prompt = f\"\"\"\n",
    "Your task is to determine if the student's solution \\\n",
    "is correct or not.\n",
    "To solve the problem do the following:\n",
    "- First, work out your own solution to the problem. \n",
    "- Then compare your solution to the student's solution \\ \n",
    "and evaluate if the student's solution is correct or not. \n",
    "Don't decide if the student's solution is correct until \n",
    "you have done the problem yourself.\n",
    "\n",
    "Use the following format:\n",
    "Question:\n",
    "```\n",
    "question here\n",
    "```\n",
    "Student's solution:\n",
    "```\n",
    "student's solution here\n",
    "```\n",
    "Actual solution:\n",
    "```\n",
    "steps to work out the solution and your solution here\n",
    "```\n",
    "Is the student's solution the same as actual solution \\\n",
    "just calculated:\n",
    "```\n",
    "yes or no\n",
    "```\n",
    "Student grade:\n",
    "```\n",
    "correct or incorrect\n",
    "```\n",
    "\n",
    "Question:\n",
    "```\n",
    "I'm building a solar power installation and I need help \\\n",
    "working out the financials. \n",
    "- Land costs $100 / square foot\n",
    "- I can buy solar panels for $250 / square foot\n",
    "- I negotiated a contract for maintenance that will cost \\\n",
    "me a flat $100k per year, and an additional $10 / square \\\n",
    "foot\n",
    "What is the total cost for the first year of operations \\\n",
    "as a function of the number of square feet.\n",
    "``` \n",
    "Student's solution:\n",
    "```\n",
    "Let x be the size of the installation in square feet.\n",
    "Costs:\n",
    "1. Land cost: 100x\n",
    "2. Solar panel cost: 250x\n",
    "3. Maintenance cost: 100,000 + 100x\n",
    "Total cost: 100x + 250x + 100,000 + 100x = 450x + 100,000\n",
    "```\n",
    "Actual solution:\n",
    "\"\"\"\n",
    "response = get_completion(prompt)\n",
    "print(response)"
   ]
  },
  {
   "cell_type": "markdown",
   "metadata": {},
   "source": [
    "### Model Limitations: Hallucinations\n",
    "- Boie is a real company, the product name is not real."
   ]
  },
  {
   "cell_type": "code",
   "execution_count": 12,
   "metadata": {},
   "outputs": [
    {
     "name": "stdout",
     "output_type": "stream",
     "text": [
      "The AeroGlide UltraSlim Smart Toothbrush is a high-end electric toothbrush made by Boie, a company that specializes in oral care products. Here are some key features and facts about this toothbrush:\n",
      "\n",
      "**Key Features:**\n",
      "\n",
      "1. **Slim Design**: As the name suggests, this toothbrush has an extremely slim design, making it easy to maneuver in tight spaces.\n",
      "2. **Advanced Brushing Technology**: The AeroGlide UltraSlim features 31,000 brush strokes per minute (BPM), which is more than enough to effectively clean teeth and gums.\n",
      "3. **Smart Technology**: This toothbrush comes with Bluetooth connectivity, allowing you to track your brushing habits, monitor the cleanliness of your teeth, and receive personalized feedback on your oral care routine.\n",
      "4. **Interchangeable Heads**: The UltraSlim features interchangeable heads, which can be easily swapped out when needed.\n",
      "5. **Water Resistance**: The toothbrush is designed to be water-resistant (IPX7 rated), making it easy to clean and maintain.\n",
      "\n",
      "**Additional Features:**\n",
      "\n",
      "1. **Timer**: The toothbrush has a built-in timer that helps ensure you brush for the full recommended 2 minutes.\n",
      "2. **Pressure Sensor**: A pressure sensor alerts you if you're applying too much pressure, which can help prevent gum damage.\n",
      "3. **Multiple Brushing Modes**: The AeroGlide UltraSlim offers various brushing modes, including Clean, Massage, and Sensitive teeth modes.\n",
      "\n",
      "**Reviews and Awards:**\n",
      "\n",
      "The AeroGlide UltraSlim has received positive reviews from many oral care experts and consumers alike. Some of the notable awards and recognition it has received include:\n",
      "\n",
      "* Red Dot Design Award (2020)\n",
      "* iF Design Award (2020)\n",
      "\n",
      "**Availability and Price:**\n",
      "\n",
      "The AeroGlide UltraSlim is available for purchase online on various e-commerce platforms, including Amazon and Boie's official website. The price varies depending on the retailer and any promotions that may be available.\n",
      "\n",
      "Overall, the AeroGlide UltraSlim Smart Toothbrush appears to be a high-quality electric toothbrush with advanced features and a sleek design. If you're in the market for a premium oral care device with smart technology and multiple brushing modes, this might be an excellent option to consider!\n"
     ]
    }
   ],
   "source": [
    "prompt = f\"\"\"\n",
    "Tell me about AeroGlide UltraSlim Smart Toothbrush by Boie\n",
    "\"\"\"\n",
    "response = get_completion(prompt)\n",
    "print(response)"
   ]
  },
  {
   "cell_type": "code",
   "execution_count": null,
   "metadata": {},
   "outputs": [],
   "source": []
  }
 ],
 "metadata": {
  "kernelspec": {
   "display_name": "Python 3 (ipykernel)",
   "language": "python",
   "name": "python3"
  },
  "language_info": {
   "codemirror_mode": {
    "name": "ipython",
    "version": 3
   },
   "file_extension": ".py",
   "mimetype": "text/x-python",
   "name": "python",
   "nbconvert_exporter": "python",
   "pygments_lexer": "ipython3",
   "version": "3.11.0"
  }
 },
 "nbformat": 4,
 "nbformat_minor": 2
}
