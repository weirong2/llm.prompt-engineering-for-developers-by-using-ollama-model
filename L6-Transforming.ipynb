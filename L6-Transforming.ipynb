{
 "cells": [
  {
   "cell_type": "markdown",
   "metadata": {},
   "source": [
    "# Transforming\n",
    "In this notebook, we will explore how to use Large Language Models for text transformation tasks such as language translation, spelling and grammar checking, tone adjustment, and format conversion.\n",
    "\n",
    "## Setup"
   ]
  },
  {
   "cell_type": "code",
   "execution_count": 1,
   "metadata": {},
   "outputs": [],
   "source": [
    "from utils import ollama_chat"
   ]
  },
  {
   "cell_type": "code",
   "execution_count": 2,
   "metadata": {},
   "outputs": [],
   "source": [
    "def get_completion(prompt, model=\"llama3.1\"):\n",
    "    return ollama_chat(model=model, content=prompt)"
   ]
  },
  {
   "cell_type": "markdown",
   "metadata": {},
   "source": [
    "## Translation"
   ]
  },
  {
   "cell_type": "markdown",
   "metadata": {},
   "source": [
    "Ollama model is trained with sources in many languages. This gives the model the ability to do translation. Here are some examples of how to use this capability."
   ]
  },
  {
   "cell_type": "code",
   "execution_count": 3,
   "metadata": {},
   "outputs": [
    {
     "name": "stdout",
     "output_type": "stream",
     "text": [
      "Here is the translation:\n",
      "\n",
      "\"Hola, me gustaría pedir un licuadora\" \n",
      "\n",
      "(Note: \"licuadora\" is the most common translation for \"blender\" in Spanish-speaking countries. However, some people might use \"batidora\" or simply say \"licuador\" depending on the country and region.)\n"
     ]
    }
   ],
   "source": [
    "prompt = f\"\"\"\n",
    "Translate the following English text to Spanish: \\ \n",
    "```Hi, I would like to order a blender```\n",
    "\"\"\"\n",
    "response = get_completion(prompt)\n",
    "print(response)"
   ]
  },
  {
   "cell_type": "code",
   "execution_count": 4,
   "metadata": {},
   "outputs": [
    {
     "name": "stdout",
     "output_type": "stream",
     "text": [
      "French! \n",
      "\n",
      "\"Combien coûte le lampadaire?\" translates to \"How much does the lamp cost?\" in English.\n"
     ]
    }
   ],
   "source": [
    "prompt = f\"\"\"\n",
    "Tell me which language this is: \n",
    "```Combien coûte le lampadaire?```\n",
    "\"\"\"\n",
    "response = get_completion(prompt)\n",
    "print(response)"
   ]
  },
  {
   "cell_type": "code",
   "execution_count": 5,
   "metadata": {},
   "outputs": [
    {
     "name": "stdout",
     "output_type": "stream",
     "text": [
      "Here are the translations:\n",
      "\n",
      "**French:** J'aimerais commander un panier de basket.\n",
      "\n",
      "**Spanish:** Quiero pedir un canasto de baloncesto.\n",
      "\n",
      "Note: In both languages, I translated \"basketball\" as \"panier de basket\" in French and \"canasto de baloncesto\" in Spanish. These are the most common translations for basketball in each language.\n"
     ]
    }
   ],
   "source": [
    "prompt = f\"\"\"\n",
    "Translate the following  text to French and Spanish\n",
    "and English pirate: \\\n",
    "```I want to order a basketball```\n",
    "\"\"\"\n",
    "response = get_completion(prompt)\n",
    "print(response)"
   ]
  },
  {
   "cell_type": "code",
   "execution_count": 6,
   "metadata": {},
   "outputs": [
    {
     "name": "stdout",
     "output_type": "stream",
     "text": [
      "Here are the translations:\n",
      "\n",
      "**Formal (usted):**\n",
      "- Would you like... -> ¿Le gustaría...\n",
      "- a pillow -> un cojín\n",
      "- to order -> pedir\n",
      "So, the formal translation is: **\"¿Le gustaría pedir un cojín?\"**\n",
      "\n",
      "**Informal (tú):**\n",
      "- Would you like... -> ¿Te gustaría...\n",
      "So, the informal translation is: **\"¿Te gustaría pedir un cojín?\"**\n",
      "\n",
      "Note that in Spanish, \"usted\" and \"tú\" are used as formal and informal pronouns respectively.\n"
     ]
    }
   ],
   "source": [
    "prompt = f\"\"\"\n",
    "Translate the following text to Spanish in both the \\\n",
    "formal and informal forms: \n",
    "'Would you like to order a pillow?'\n",
    "\"\"\"\n",
    "response = get_completion(prompt)\n",
    "print(response)"
   ]
  },
  {
   "cell_type": "markdown",
   "metadata": {},
   "source": [
    "## Universal Translator\n",
    "Imagine you are in charge of IT at a large multinational e-commerce company. Users are messaging you with IT issues in all their native languages. Your staff is from all over the world and speaks only their native languages. You need a universal translator!"
   ]
  },
  {
   "cell_type": "code",
   "execution_count": 7,
   "metadata": {},
   "outputs": [],
   "source": [
    "user_messages = [\n",
    "  \"La performance du système est plus lente que d'habitude.\",  # System performance is slower than normal         \n",
    "  \"Mi monitor tiene píxeles que no se iluminan.\",              # My monitor has pixels that are not lighting\n",
    "  \"Il mio mouse non funziona\",                                 # My mouse is not working\n",
    "  \"Mój klawisz Ctrl jest zepsuty\",                             # My keyboard has a broken control key\n",
    "  \"我的屏幕在闪烁\"                                               # My screen is flashing\n",
    "] "
   ]
  },
  {
   "cell_type": "code",
   "execution_count": 8,
   "metadata": {},
   "outputs": [
    {
     "name": "stdout",
     "output_type": "stream",
     "text": [
      "Original message (This sentence appears to be in French, as indicated by the following clues:\n",
      "\n",
      "* The words \"performance\", \"du\", \"système\", and \"lente\" are all recognizable French vocabulary.\n",
      "* The sentence structure and grammar, such as the use of the possessive adjective \"d'habitude\", also match typical French syntax.\n",
      "* Finally, the overall tone and style of the sentence suggest a formal or technical context, which is consistent with the language used in many official or professional French communications.): La performance du système est plus lente que d'habitude.\n",
      "Here is the translation:\n",
      "\n",
      "**English:** \"The system's performance is slower than usual.\"\n",
      "\n",
      "**Korean:** \"시스템의 성능은 평소보다 느립니다.\" \n",
      "\n",
      "Original message (The language of the sentence \"Mi monitor tiene píxeles que no se iluminan\" is Spanish.): Mi monitor tiene píxeles que no se iluminan.\n",
      "Here are the translations:\n",
      "\n",
      "**English:** My monitor has pixels that don't light up.\n",
      "\n",
      "**Korean:** 모니터는 불이 들어가지 않는 픽셀들이 있습니다. (Note: This is a direct translation of the original sentence, but Korean often uses more formal or polite language in writing. A more natural-sounding translation might be:) 제 모니터에 불이 들어가지 않는 픽셀이 있어요. \n",
      "\n",
      "Original message (The language of the text you provided is Italian. \n",
      "\n",
      "Here's a breakdown:\n",
      "\n",
      "* \"Il\" means \"the\"\n",
      "* \"mio\" means \"my\"\n",
      "* \"mouse\" in English means a computer input device, but \"mouse\" in Italian also means that, and it's written similarly\n",
      "* \"non\" means \"not\"\n",
      "* \"funziona\" is the third person singular of the verb \"funzionare\", which means \"to work\". In this context, it means \"does not work\"\n",
      "\n",
      "So, literally translated, the phrase \"Il mio mouse non funziona\" means \"My mouse doesn't work\".): Il mio mouse non funziona\n",
      "Here are the translations:\n",
      "\n",
      "**English:** My mouse doesn't work.\n",
      "\n",
      "**Korean:** 마우스가 작동하지 않습니다. (Mausega jakdonghaji anseo-ta) or 마이 마우스가 안되요 ( Mai mausega andeoyo) \n",
      "\n",
      "Original message (The language of the text is Polish. \n",
      "\n",
      "Here's a breakdown:\n",
      "\n",
      "- \"Mój\" means \"my\"\n",
      "- \"klawisz\" means \"key\" or \"button\"\n",
      "- \"Ctrl\" refers to the control key on computer keyboards, which is commonly used in many languages.\n",
      "- \"jest zepsuty\" means \"is broken\"): Mój klawisz Ctrl jest zepsuty\n",
      "Here are the translations:\n",
      "\n",
      "**English:** My Ctrl key is broken.\n",
      "\n",
      "**Korean:** 내 Ctrl 키가 고장이 났다. (note: \"고장\" means \"malfunction\" or \"breakage\", and it's a more common way to express this idea in Korean) Alternatively, if you want to make it sound more like the original phrase: 내 Ctrl 키가 나빠졌다. \n",
      "\n",
      "Original message (That's Chinese! Specifically, it appears to be written in Simplified Chinese. The characters mean \"My screen is flickering\".): 我的屏幕在闪烁\n",
      "Here is the translation:\n",
      "\n",
      "**English:** My screen is flickering.\n",
      "\n",
      "**Korean:** 나의 스크린은 깜빡거립니다. \n",
      "\n"
     ]
    }
   ],
   "source": [
    "for issue in user_messages:\n",
    "    prompt = f\"Tell me what language this is: ```{issue}```\"\n",
    "    lang = get_completion(prompt)\n",
    "    print(f\"Original message ({lang}): {issue}\")\n",
    "\n",
    "    prompt = f\"\"\"\n",
    "    Translate the following  text to English \\\n",
    "    and Korean: ```{issue}```\n",
    "    \"\"\"\n",
    "    response = get_completion(prompt)\n",
    "    print(response, \"\\n\")"
   ]
  },
  {
   "cell_type": "markdown",
   "metadata": {},
   "source": [
    "## Tone Transformation\n",
    "### Writing can vary based on the intended audience. Ollama model can produce different tones."
   ]
  },
  {
   "cell_type": "code",
   "execution_count": 9,
   "metadata": {},
   "outputs": [
    {
     "name": "stdout",
     "output_type": "stream",
     "text": [
      "Here's the translation:\n",
      "\n",
      "\"Dear Sir/Madam,\n",
      "\n",
      "I am writing to introduce myself as Joe. I would like to bring to your attention a product specification for a standing lamp that we have available.\n",
      "\n",
      "If you are interested in learning more about this item, please do not hesitate to contact me directly.\n",
      "\n",
      "Sincerely,\n",
      "Joe\"\n",
      "\n",
      "Or, if you want to maintain a bit of informality while still being professional:\n",
      "\n",
      "\"Hello,\n",
      "\n",
      "This is Joe. I wanted to share with you the product details for our standing lamp. If you'd like to learn more or discuss further, I'd be happy to hear from you.\n",
      "\n",
      "Best regards,\n",
      "Joe\"\n"
     ]
    }
   ],
   "source": [
    "prompt = f\"\"\"\n",
    "Translate the following from slang to a business letter: \n",
    "'Dude, This is Joe, check out this spec on this standing lamp.'\n",
    "\"\"\"\n",
    "response = get_completion(prompt)\n",
    "print(response)"
   ]
  },
  {
   "cell_type": "markdown",
   "metadata": {},
   "source": [
    "## Format Conversion\n",
    "### Ollama model can translate between formats. The prompt should describe the input and output formats."
   ]
  },
  {
   "cell_type": "code",
   "execution_count": 10,
   "metadata": {},
   "outputs": [
    {
     "name": "stdout",
     "output_type": "stream",
     "text": [
      "Here is the Python code to translate the JSON dictionary into an HTML table with column headers and title:\n",
      "```python\n",
      "import json\n",
      "\n",
      "# Original JSON dictionary\n",
      "data = {\n",
      "    'resturant employees': [\n",
      "        {'name': 'Shyam', 'email': 'shyamjaiswal@gmail.com'},\n",
      "        {'name': 'Bob', 'email': 'bob32@gmail.com'},\n",
      "        {'name': 'Jai', 'email': 'jai87@gmail.com'}\n",
      "    ]\n",
      "}\n",
      "\n",
      "# Convert JSON to HTML table\n",
      "title = \"Restaurant Employees\"\n",
      "column_headers = [\"Name\", \"Email\"]\n",
      "\n",
      "html_table = \"<h2>\" + title + \"</h2><table border='1'><tr>\"\n",
      "for header in column_headers:\n",
      "    html_table += \"<th>\" + header + \"</th>\"\n",
      "\n",
      "html_table += \"</tr>\"\n",
      "for employee in data['resturant employees']:\n",
      "    html_table += \"<tr><td>\" + employee['name'] + \"</td><td>\" + employee['email'] + \"</td></tr>\"\n",
      "\n",
      "# Close table\n",
      "html_table += \"</table>\"\n",
      "\n",
      "print(html_table)\n",
      "```\n",
      "Output:\n",
      "```html\n",
      "<h2>Restaurant Employees</h2>\n",
      "<table border=\"1\">\n",
      "  <tr>\n",
      "    <th>Name</th>\n",
      "    <th>Email</th>\n",
      "  </tr>\n",
      "  <tr>\n",
      "    <td>Shyam</td>\n",
      "    <td>shyamjaiswal@gmail.com</td>\n",
      "  </tr>\n",
      "  <tr>\n",
      "    <td>Bob</td>\n",
      "    <td>bob32@gmail.com</td>\n",
      "  </tr>\n",
      "  <tr>\n",
      "    <td>Jai</td>\n",
      "    <td>jai87@gmail.com</td>\n",
      "  </tr>\n",
      "</table>\n",
      "```\n",
      "This code uses the `json` module to parse the original JSON dictionary and then constructs an HTML table with column headers and title. The resulting HTML is printed out.\n",
      "\n",
      "Note that I assumed a simple table structure, but you can customize it as per your requirements (e.g., add more columns, modify header styles).\n"
     ]
    }
   ],
   "source": [
    "data_json = { \"resturant employees\" :[ \n",
    "    {\"name\":\"Shyam\", \"email\":\"shyamjaiswal@gmail.com\"},\n",
    "    {\"name\":\"Bob\", \"email\":\"bob32@gmail.com\"},\n",
    "    {\"name\":\"Jai\", \"email\":\"jai87@gmail.com\"}\n",
    "]}\n",
    "\n",
    "prompt = f\"\"\"\n",
    "Translate the following python dictionary from JSON to an HTML \\\n",
    "table with column headers and title: {data_json}\n",
    "\"\"\"\n",
    "response = get_completion(prompt)\n",
    "print(response)"
   ]
  },
  {
   "cell_type": "code",
   "execution_count": 11,
   "metadata": {},
   "outputs": [
    {
     "data": {
      "text/html": [
       "Here is the Python code to translate the JSON dictionary into an HTML table with column headers and title:\n",
       "```python\n",
       "import json\n",
       "\n",
       "# Original JSON dictionary\n",
       "data = {\n",
       "    'resturant employees': [\n",
       "        {'name': 'Shyam', 'email': 'shyamjaiswal@gmail.com'},\n",
       "        {'name': 'Bob', 'email': 'bob32@gmail.com'},\n",
       "        {'name': 'Jai', 'email': 'jai87@gmail.com'}\n",
       "    ]\n",
       "}\n",
       "\n",
       "# Convert JSON to HTML table\n",
       "title = \"Restaurant Employees\"\n",
       "column_headers = [\"Name\", \"Email\"]\n",
       "\n",
       "html_table = \"<h2>\" + title + \"</h2><table border='1'><tr>\"\n",
       "for header in column_headers:\n",
       "    html_table += \"<th>\" + header + \"</th>\"\n",
       "\n",
       "html_table += \"</tr>\"\n",
       "for employee in data['resturant employees']:\n",
       "    html_table += \"<tr><td>\" + employee['name'] + \"</td><td>\" + employee['email'] + \"</td></tr>\"\n",
       "\n",
       "# Close table\n",
       "html_table += \"</table>\"\n",
       "\n",
       "print(html_table)\n",
       "```\n",
       "Output:\n",
       "```html\n",
       "<h2>Restaurant Employees</h2>\n",
       "<table border=\"1\">\n",
       "  <tr>\n",
       "    <th>Name</th>\n",
       "    <th>Email</th>\n",
       "  </tr>\n",
       "  <tr>\n",
       "    <td>Shyam</td>\n",
       "    <td>shyamjaiswal@gmail.com</td>\n",
       "  </tr>\n",
       "  <tr>\n",
       "    <td>Bob</td>\n",
       "    <td>bob32@gmail.com</td>\n",
       "  </tr>\n",
       "  <tr>\n",
       "    <td>Jai</td>\n",
       "    <td>jai87@gmail.com</td>\n",
       "  </tr>\n",
       "</table>\n",
       "```\n",
       "This code uses the `json` module to parse the original JSON dictionary and then constructs an HTML table with column headers and title. The resulting HTML is printed out.\n",
       "\n",
       "Note that I assumed a simple table structure, but you can customize it as per your requirements (e.g., add more columns, modify header styles)."
      ],
      "text/plain": [
       "<IPython.core.display.HTML object>"
      ]
     },
     "metadata": {},
     "output_type": "display_data"
    }
   ],
   "source": [
    "from IPython.display import display, Markdown, Latex, HTML, JSON\n",
    "display(HTML(response))"
   ]
  },
  {
   "cell_type": "markdown",
   "metadata": {},
   "source": [
    "## Spellcheck/Grammar check.\n",
    "Here are some examples of common grammar and spelling problems and the LLM's response.\n",
    "\n",
    "To signal to the LLM that you want it to proofread your text, you instruct the model to 'proofread' or 'proofread and correct'."
   ]
  },
  {
   "cell_type": "code",
   "execution_count": 12,
   "metadata": {},
   "outputs": [
    {
     "name": "stdout",
     "output_type": "stream",
     "text": [
      "Here is the corrected version:\n",
      "\n",
      "```The girl with the black and white puppies has a ball.```\n",
      "\n",
      "I made two changes: I changed \"have\" to \"has\", which is the correct verb to use in this context because it's referring to a singular, present-tense subject (\"the girl\").\n",
      "Here is the proofread and corrected text:\n",
      "\n",
      "No errors found.\n",
      "\n",
      "This text appears to be a complete sentence with proper grammar and spelling. The text was already provided without punctuation, as per your request.\n",
      "Here is the corrected text:\n",
      "\n",
      "It's going to be a long day. Does the car need its oil changed?\n",
      "\n",
      "Corrected errors: \"it's\" should be replaced with \"its\", and an apostrophe was added for possessive form, also changed single quotation marks to double quotation marks for consistency.\n",
      "Here is the corrected text:\n",
      "\n",
      "\"There goes my freedom. They are going to bring their suitcases.\"\n",
      "\n",
      "I made the following corrections:\n",
      "\n",
      "* \"There\" should be \"There\", but in this context, it should be followed by a verb, so I changed it to \"goes\".\n",
      "* \"Their\" (possessive) is correct here.\n",
      "* \"They're\" (contraction for \"they are\") was incorrect; instead, we use the full phrase \"They are going to bring...\".\n",
      "* Changed \"they're suitcases\" to \"their suitcases\", which makes more sense in this context as a possessive noun.\n",
      "Here is the corrected text with a rewritten version:\n",
      "\n",
      "Corrected text: Your are going to need your notebook.\n",
      "\n",
      "Rewritten version (more concise and formal): You'll need your notebook.\n",
      "Here is the proofread and corrected text:\n",
      "\n",
      "\"That medicine affects my ability to sleep. Have you heard of the butterfly effect?\"\n",
      "\n",
      "Corrected errors:\n",
      "\n",
      "* \"effects\" -> \"affects\" (correct verb form)\n",
      "* \"my\" was correct, but I added a period at the end for proper sentence structure\n",
      "Here is the proofread and corrected text:\n",
      "\n",
      "\"This phrase is to check Olá's model for spelling ability\"\n",
      "\n",
      "Corrected errors:\n",
      "\n",
      "* \"cherck\" -> \"check\"\n",
      "* \"Ollama\" -> \"Olá\" (assuming this is a reference to the musical instrument, but I left it as-is since the original text was likely incorrect)\n",
      "* \"speling\" -> \"spelling\"\n",
      "* \"abilitty\" -> \"ability\"\n"
     ]
    }
   ],
   "source": [
    "text = [ \n",
    "  \"The girl with the black and white puppies have a ball.\",  # The girl has a ball.\n",
    "  \"Yolanda has her notebook.\", # ok\n",
    "  \"Its going to be a long day. Does the car need it’s oil changed?\",  # Homonyms\n",
    "  \"Their goes my freedom. There going to bring they’re suitcases.\",  # Homonyms\n",
    "  \"Your going to need you’re notebook.\",  # Homonyms\n",
    "  \"That medicine effects my ability to sleep. Have you heard of the butterfly affect?\", # Homonyms\n",
    "  \"This phrase is to cherck Ollama model for speling abilitty\"  # spelling\n",
    "]\n",
    "for t in text:\n",
    "    prompt = f\"\"\"Proofread and correct the following text\n",
    "    and rewrite the corrected version. If you don't find\n",
    "    and errors, just say \"No errors found\". Don't use \n",
    "    any punctuation around the text:\n",
    "    ```{t}```\"\"\"\n",
    "    response = get_completion(prompt)\n",
    "    print(response)"
   ]
  },
  {
   "cell_type": "code",
   "execution_count": 13,
   "metadata": {},
   "outputs": [
    {
     "name": "stdout",
     "output_type": "stream",
     "text": [
      "Here is the review with corrections and improvements:\n",
      "\n",
      "\"I purchased this panda plush toy for my daughter's birthday because she kept taking mine from my room! Yes, even adults love pandas too. She takes it everywhere with her, and it's incredibly soft and adorable. One of the ears is slightly lower than the other, but I assume that was not intended to be asymmetrical. Unfortunately, it's a bit smaller than expected for what I paid for it, which makes me think there might be bigger options available at the same price point. The item arrived a day earlier than anticipated, so I got to play with it myself before giving it to my daughter.\"\n",
      "\n",
      "I made the following changes:\n",
      "\n",
      "* Capitalized \"I\" and added a question mark to make the sentence grammatically correct\n",
      "* Changed \"cuz\" to \"because\" for standard spelling and grammar\n",
      "* Added an apostrophe to \"it's\" (contraction of \"it is\") in two places\n",
      "* Improved sentence structure and wording for clarity and flow\n",
      "* Made minor punctuation changes for consistency\n"
     ]
    }
   ],
   "source": [
    "text = f\"\"\"\n",
    "Got this for my daughter for her birthday cuz she keeps taking \\\n",
    "mine from my room.  Yes, adults also like pandas too.  She takes \\\n",
    "it everywhere with her, and it's super soft and cute.  One of the \\\n",
    "ears is a bit lower than the other, and I don't think that was \\\n",
    "designed to be asymmetrical. It's a bit small for what I paid for it \\\n",
    "though. I think there might be other options that are bigger for \\\n",
    "the same price.  It arrived a day earlier than expected, so I got \\\n",
    "to play with it myself before I gave it to my daughter.\n",
    "\"\"\"\n",
    "prompt = f\"proofread and correct this review: ```{text}```\"\n",
    "response = get_completion(prompt)\n",
    "print(response)"
   ]
  },
  {
   "cell_type": "code",
   "execution_count": 14,
   "metadata": {},
   "outputs": [
    {
     "data": {
      "text/markdown": [
       "Here is the proofread and corrected review in markdown format, targeted at an advanced reader, and following APA style guide:\n",
       "\n",
       "**A Panda-fect Gift: Soft, Cute, but Slightly Disappointing**\n",
       "===========================================================\n",
       "\n",
       "I purchased this adorable panda plush toy for my daughter's birthday as a gesture to reclaim it from her constant borrowing. To my surprise, I found that adults can also appreciate the charm of these cuddly creatures!\n",
       "\n",
       "The softness and cuteness of this plush toy are undeniable, with my daughter taking it everywhere with her. However, upon closer inspection, I noticed that one ear is slightly lower than the other. While this might be intended to add character, I'm not convinced it was designed as such.\n",
       "\n",
       "One minor disappointment lies in its size. Considering the price point, I expected a larger plush toy. Upon researching further, I discovered similar options available at the same price range but with more substantial sizes. Nevertheless, my daughter remains enamored with this small yet endearing companion.\n",
       "\n",
       "The shipping was impressive, arriving a day earlier than anticipated, allowing me to sneak in some quality playtime with it before handing it over to my delighted daughter.\n",
       "\n",
       "Rating: 3.5/5\n",
       "\n",
       "Note:\n",
       "\n",
       "* I corrected minor punctuation errors and reorganized the text for better flow.\n",
       "* I added headings and subheadings to enhance readability and make it more engaging for an advanced reader.\n",
       "* I incorporated APA style guide principles by using a formal tone, proper grammar, and concise sentence structure.\n",
       "* I highlighted the main points of the review, such as the plush toy's softness, cuteness, size concerns, and shipping efficiency."
      ],
      "text/plain": [
       "<IPython.core.display.Markdown object>"
      ]
     },
     "metadata": {},
     "output_type": "display_data"
    }
   ],
   "source": [
    "from IPython.display import Markdown\n",
    "\n",
    "\n",
    "prompt = f\"\"\"\n",
    "proofread and correct this review. Make it more compelling. \n",
    "Ensure it follows APA style guide and targets an advanced reader. \n",
    "Output in markdown format.\n",
    "Text: ```{text}```\n",
    "\"\"\"\n",
    "response = get_completion(prompt)\n",
    "display(Markdown(response))"
   ]
  },
  {
   "cell_type": "markdown",
   "metadata": {},
   "source": [
    "Thanks to the following sites:\n",
    "\n",
    "[site](https://writingprompts.com/bad-grammar-examples/)"
   ]
  },
  {
   "cell_type": "code",
   "execution_count": null,
   "metadata": {},
   "outputs": [],
   "source": []
  }
 ],
 "metadata": {
  "kernelspec": {
   "display_name": "Python 3 (ipykernel)",
   "language": "python",
   "name": "python3"
  },
  "language_info": {
   "codemirror_mode": {
    "name": "ipython",
    "version": 3
   },
   "file_extension": ".py",
   "mimetype": "text/x-python",
   "name": "python",
   "nbconvert_exporter": "python",
   "pygments_lexer": "ipython3",
   "version": "3.11.0"
  }
 },
 "nbformat": 4,
 "nbformat_minor": 2
}
