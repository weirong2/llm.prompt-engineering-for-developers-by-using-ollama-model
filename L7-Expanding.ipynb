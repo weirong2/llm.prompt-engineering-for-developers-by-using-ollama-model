{
 "cells": [
  {
   "cell_type": "markdown",
   "metadata": {},
   "source": [
    "# Expanding\n",
    "In this lesson, you will generate customer service emails that are tailored to each customer's review.\n",
    "\n",
    "## Setup"
   ]
  },
  {
   "cell_type": "code",
   "execution_count": 1,
   "metadata": {},
   "outputs": [],
   "source": [
    "from utils import ollama_generate"
   ]
  },
  {
   "cell_type": "code",
   "execution_count": 2,
   "metadata": {},
   "outputs": [],
   "source": [
    "def get_completion(prompt, model=\"llama3.1\", temperature=0.8):\n",
    "    return ollama_generate(model=model, prompt=prompt, temperature=temperature)"
   ]
  },
  {
   "cell_type": "markdown",
   "metadata": {},
   "source": [
    "### Customize the automated reply to a customer email"
   ]
  },
  {
   "cell_type": "code",
   "execution_count": 3,
   "metadata": {},
   "outputs": [],
   "source": [
    "# given the sentiment from the lesson on \"inferring\",\n",
    "# and the original customer message, customize the email\n",
    "sentiment = \"negative\"\n",
    "\n",
    "# review for a blender\n",
    "review = f\"\"\"\n",
    "So, they still had the 17 piece system on seasonal \\\n",
    "sale for around $49 in the month of November, about \\\n",
    "half off, but for some reason (call it price gouging) \\\n",
    "around the second week of December the prices all went \\\n",
    "up to about anywhere from between $70-$89 for the same \\\n",
    "system. And the 11 piece system went up around $10 or \\\n",
    "so in price also from the earlier sale price of $29. \\\n",
    "So it looks okay, but if you look at the base, the part \\\n",
    "where the blade locks into place doesn’t look as good \\\n",
    "as in previous editions from a few years ago, but I \\\n",
    "plan to be very gentle with it (example, I crush \\\n",
    "very hard items like beans, ice, rice, etc. in the \\ \n",
    "blender first then pulverize them in the serving size \\\n",
    "I want in the blender then switch to the whipping \\\n",
    "blade for a finer flour, and use the cross cutting blade \\\n",
    "first when making smoothies, then use the flat blade \\\n",
    "if I need them finer/less pulpy). Special tip when making \\\n",
    "smoothies, finely cut and freeze the fruits and \\\n",
    "vegetables (if using spinach-lightly stew soften the \\ \n",
    "spinach then freeze until ready for use-and if making \\\n",
    "sorbet, use a small to medium sized food processor) \\ \n",
    "that you plan to use that way you can avoid adding so \\\n",
    "much ice if at all-when making your smoothie. \\\n",
    "After about a year, the motor was making a funny noise. \\\n",
    "I called customer service but the warranty expired \\\n",
    "already, so I had to buy another one. FYI: The overall \\\n",
    "quality has gone done in these types of products, so \\\n",
    "they are kind of counting on brand recognition and \\\n",
    "consumer loyalty to maintain sales. Got it in about \\\n",
    "two days.\n",
    "\"\"\""
   ]
  },
  {
   "cell_type": "code",
   "execution_count": 4,
   "metadata": {},
   "outputs": [
    {
     "name": "stdout",
     "output_type": "stream",
     "text": [
      "Subject: Re: Feedback on Recent Purchase - Thank you for sharing your experience!\n",
      "\n",
      "Dear valued customer,\n",
      "\n",
      "Thank you for taking the time to share your thoughts on your recent purchase from us. We appreciate your feedback and would like to address some of the concerns you've raised.\n",
      "\n",
      "I'm sorry to hear that you felt the prices of our products increased significantly after the initial sale period. We understand that this change may have been disappointing, especially considering the value you expected to get for your money. I also note that you mentioned some issues with the quality of the product, specifically the locking mechanism on the blender base.\n",
      "\n",
      "Please know that we take all feedback seriously and will pass on your concerns to our product development team. We apologize if we failed to meet your expectations in this regard.\n",
      "\n",
      "As a valued customer, you're entitled to excellent service, and I'm sorry that we couldn't provide that for you with your warranty claim. I appreciate your understanding about the expired warranty, but please know that we're here to help whenever you need it.\n",
      "\n",
      "Regarding your tips on using our blender, thank you for sharing those! We'll make sure to pass them along to our customer support team and incorporate them into our product guides.\n",
      "\n",
      "If you'd like to discuss this further or have any additional concerns, please don't hesitate to reach out to us directly. We're here to listen and help in any way we can.\n",
      "\n",
      "Thank you again for your review, and we hope to serve you better in the future.\n",
      "\n",
      "Best regards,\n",
      "\n",
      "AI Customer Agent\n"
     ]
    }
   ],
   "source": [
    "prompt = f\"\"\"\n",
    "You are a customer service AI assistant.\n",
    "Your task is to send an email reply to a valued customer.\n",
    "Given the customer email delimited by ```, \\\n",
    "Generate a reply to thank the customer for their review.\n",
    "If the sentiment is positive or neutral, thank them for \\\n",
    "their review.\n",
    "If the sentiment is negative, apologize and suggest that \\\n",
    "they can reach out to customer service. \n",
    "Make sure to use specific details from the review.\n",
    "Write in a concise and professional tone.\n",
    "Sign the email as `AI customer agent`.\n",
    "Customer review: ```{review}```\n",
    "Review sentiment: {sentiment}\n",
    "\"\"\"\n",
    "response = get_completion(prompt)\n",
    "print(response)"
   ]
  },
  {
   "cell_type": "markdown",
   "metadata": {},
   "source": [
    "### Remind the model to use details from the customer's email"
   ]
  },
  {
   "cell_type": "code",
   "execution_count": 5,
   "metadata": {},
   "outputs": [
    {
     "name": "stdout",
     "output_type": "stream",
     "text": [
      "Here's a response email:\n",
      "\n",
      "Subject: Re: Feedback on Your Purchase Experience\n",
      "\n",
      "Dear valued customer,\n",
      "\n",
      "Thank you for taking the time to share your review of our 17 piece system sale experience. I'm so sorry to hear that we failed to meet your expectations.\n",
      "\n",
      "You mentioned that you noticed an unexpected price increase for both the 17 piece and 11 piece systems after the initial sale in November, which we acknowledge is not ideal. We understand that this sudden change may have been disappointing, especially considering our past performance on previous editions.\n",
      "\n",
      "Furthermore, we're sorry to hear about your concerns regarding the quality of the base component on the latest system. Your specific tips for using the blender effectively are greatly appreciated and helpful for other customers looking to maximize their appliance's performance.\n",
      "\n",
      "Additionally, we apologize that our customer service team was unable to assist with a warranty replacement when you reported issues after one year of use. We take pride in supporting our valued customers through any issues they may face.\n",
      "\n",
      "Please be assured that your feedback will help us to identify areas for improvement and make changes accordingly. If there's anything specific we can do differently or provide a suitable solution for this recent purchase, kindly don't hesitate to contact me directly at this email address so I can further investigate.\n",
      "\n",
      "Thank you once again for your honest review and patience throughout the process.\n",
      "\n",
      "Best regards,\n",
      "\n",
      "AI customer agent\n"
     ]
    }
   ],
   "source": [
    "prompt = f\"\"\"\n",
    "You are a customer service AI assistant.\n",
    "Your task is to send an email reply to a valued customer.\n",
    "Given the customer email delimited by ```, \\\n",
    "Generate a reply to thank the customer for their review.\n",
    "If the sentiment is positive or neutral, thank them for \\\n",
    "their review.\n",
    "If the sentiment is negative, apologize and suggest that \\\n",
    "they can reach out to customer service. \n",
    "Make sure to use specific details from the review.\n",
    "Write in a concise and professional tone.\n",
    "Sign the email as `AI customer agent`.\n",
    "Customer review: ```{review}```\n",
    "Review sentiment: {sentiment}\n",
    "\"\"\"\n",
    "response = get_completion(prompt, temperature=2)\n",
    "print(response)"
   ]
  },
  {
   "cell_type": "code",
   "execution_count": null,
   "metadata": {},
   "outputs": [],
   "source": []
  }
 ],
 "metadata": {
  "kernelspec": {
   "display_name": "Python 3 (ipykernel)",
   "language": "python",
   "name": "python3"
  },
  "language_info": {
   "codemirror_mode": {
    "name": "ipython",
    "version": 3
   },
   "file_extension": ".py",
   "mimetype": "text/x-python",
   "name": "python",
   "nbconvert_exporter": "python",
   "pygments_lexer": "ipython3",
   "version": "3.11.0"
  }
 },
 "nbformat": 4,
 "nbformat_minor": 2
}
