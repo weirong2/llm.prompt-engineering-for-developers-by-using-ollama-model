{
 "cells": [
  {
   "cell_type": "markdown",
   "metadata": {},
   "source": [
    "# Iterative Prompt Development\n",
    "In this lesson, you'll iteratively analyze and refine your prompts to generate marketing copy from a product fact sheet."
   ]
  },
  {
   "cell_type": "markdown",
   "metadata": {},
   "source": [
    "## Setup\n",
    "### Load relevant Python libaries."
   ]
  },
  {
   "cell_type": "code",
   "execution_count": 1,
   "metadata": {},
   "outputs": [],
   "source": [
    "from utils import ollama_chat"
   ]
  },
  {
   "cell_type": "code",
   "execution_count": 2,
   "metadata": {},
   "outputs": [],
   "source": [
    "def get_completion(prompt, model=\"llama3.1\"):\n",
    "    return ollama_chat(model=model, content=prompt)"
   ]
  },
  {
   "cell_type": "markdown",
   "metadata": {},
   "source": [
    "## Generate a marketing product description from a product fact sheet"
   ]
  },
  {
   "cell_type": "code",
   "execution_count": 3,
   "metadata": {},
   "outputs": [
    {
     "name": "stdout",
     "output_type": "stream",
     "text": [
      "Here's a product description based on the technical specifications:\n",
      "\n",
      "**Mid-Century Modern Office Chair**\n",
      "\n",
      "Add a touch of sophistication and functionality to your home or office with our Mid-Century Modern Office Chair. Part of a beautiful family of furniture, this chair is designed to inspire creativity and productivity in any setting.\n",
      "\n",
      "With several options for shell color and base finishes, you can choose the perfect combination to match your unique style. The chair's durable construction features a 5-wheel plastic coated aluminum base and pneumatic adjust for easy raise/lower action. Choose from two comfortable seat foam densities (medium or high) and select soft or hard-floor caster options to suit your needs.\n",
      "\n",
      "The chair's sleek design is complemented by its sturdy materials, including cast aluminum with modified nylon PA6/PA66 coating on the shell base glider, and HD36 foam on the seat. Plus, with two choices of armrests (armless or 8 position PU) and a range of fabric and leather options, you can customize your chair to fit your personal style.\n",
      "\n",
      "Whether you're working from home or in a commercial setting, our Mid-Century Modern Office Chair is qualified for contract use and designed to provide years of comfortable service. With its classic mid-century design and premium materials, this chair is sure to be a stylish addition to any space.\n",
      "\n",
      "**Key Features:**\n",
      "\n",
      "* Durable cast aluminum base with modified nylon PA6/PA66 coating\n",
      "* Pneumatic adjust for easy raise/lower action\n",
      "* Choice of shell color and base finishes\n",
      "* Soft or hard-floor caster options\n",
      "* Two seat foam density options (medium or high)\n",
      "* Armless or 8 position PU armrests\n",
      "* Available in fabric or leather options\n",
      "* Qualified for contract use\n"
     ]
    }
   ],
   "source": [
    "fact_sheet_chair = \"\"\"\n",
    "OVERVIEW\n",
    "- Part of a beautiful family of mid-century inspired office furniture, \n",
    "including filing cabinets, desks, bookcases, meeting tables, and more.\n",
    "- Several options of shell color and base finishes.\n",
    "- Available with plastic back and front upholstery (SWC-100) \n",
    "or full upholstery (SWC-110) in 10 fabric and 6 leather options.\n",
    "- Base finish options are: stainless steel, matte black, \n",
    "gloss white, or chrome.\n",
    "- Chair is available with or without armrests.\n",
    "- Suitable for home or business settings.\n",
    "- Qualified for contract use.\n",
    "\n",
    "CONSTRUCTION\n",
    "- 5-wheel plastic coated aluminum base.\n",
    "- Pneumatic chair adjust for easy raise/lower action.\n",
    "\n",
    "DIMENSIONS\n",
    "- WIDTH 53 CM | 20.87”\n",
    "- DEPTH 51 CM | 20.08”\n",
    "- HEIGHT 80 CM | 31.50”\n",
    "- SEAT HEIGHT 44 CM | 17.32”\n",
    "- SEAT DEPTH 41 CM | 16.14”\n",
    "\n",
    "OPTIONS\n",
    "- Soft or hard-floor caster options.\n",
    "- Two choices of seat foam densities: \n",
    " medium (1.8 lb/ft3) or high (2.8 lb/ft3)\n",
    "- Armless or 8 position PU armrests \n",
    "\n",
    "MATERIALS\n",
    "SHELL BASE GLIDER\n",
    "- Cast Aluminum with modified nylon PA6/PA66 coating.\n",
    "- Shell thickness: 10 mm.\n",
    "SEAT\n",
    "- HD36 foam\n",
    "\n",
    "COUNTRY OF ORIGIN\n",
    "- Italy\n",
    "\"\"\"\n",
    "\n",
    "prompt = f\"\"\"\n",
    "Your task is to help a marketing team create a description for a retial website of a product based on technical fact sheet.\n",
    "\n",
    "Write a product description based on the information provided in technical specifications delimited by triple backticks.\n",
    "\n",
    "Technical specifications: ```{fact_sheet_chair}```\n",
    "\"\"\"\n",
    "\n",
    "response = get_completion(prompt)\n",
    "print(response)"
   ]
  },
  {
   "cell_type": "markdown",
   "metadata": {},
   "source": [
    "## Issue 1: The text is too long\n",
    "- Limit the number of words/sentences/characters."
   ]
  },
  {
   "cell_type": "code",
   "execution_count": 4,
   "metadata": {},
   "outputs": [
    {
     "name": "stdout",
     "output_type": "stream",
     "text": [
      "Here is a product description based on the technical specifications, within the 50-word limit:\n",
      "\n",
      "\"Elevate your workspace with this stylish, mid-century inspired chair. Available in various shell colors and base finishes, it features durable cast aluminum construction, comfortable HD36 foam seating, and ergonomic pneumatic adjustment. Ideal for home or business settings, qualified for contract use.\"\n"
     ]
    }
   ],
   "source": [
    "prompt = f\"\"\"\n",
    "Your task is to help a marketing team create a description for a retial website of a product based on technical fact sheet.\n",
    "\n",
    "Write a product description based on the information provided in technical specifications delimited by triple backticks.\n",
    "\n",
    "Use at most 50 words. \n",
    "Technical specifications: ```{fact_sheet_chair}```\n",
    "\"\"\"\n",
    "response = get_completion(prompt)\n",
    "print(response)"
   ]
  },
  {
   "cell_type": "markdown",
   "metadata": {},
   "source": [
    "## Issue 2. Text focuses on the wrong details\n",
    "- Ask it to focus on the aspects that are relevant to the intended audience."
   ]
  },
  {
   "cell_type": "code",
   "execution_count": 5,
   "metadata": {},
   "outputs": [
    {
     "name": "stdout",
     "output_type": "stream",
     "text": [
      "Here is a product description based on the technical specifications, focusing on materials and targeting furniture retailers:\n",
      "\n",
      "\"Constructed from durable cast aluminum with modified nylon PA6/PA66 coating (shell base glider) and high-density HD36 foam seat, this mid-century inspired office chair is built to last. Available in various fabric and leather options.\"\n"
     ]
    }
   ],
   "source": [
    "prompt = f\"\"\"\n",
    "Your task is to help a marketing team create a description for a retial website of a product based on technical fact sheet.\n",
    "\n",
    "Write a product description based on the information provided in technical specifications delimited by triple backticks.\n",
    "\n",
    "Description is intended for furniture retailers, so should be technical in nature and focus on the materials the product is constructed from.\n",
    "Use at most 50 words. \n",
    "Technical specifications: ```{fact_sheet_chair}```\n",
    "\"\"\"\n",
    "response = get_completion(prompt)\n",
    "print(response)"
   ]
  },
  {
   "cell_type": "code",
   "execution_count": 6,
   "metadata": {},
   "outputs": [
    {
     "name": "stdout",
     "output_type": "stream",
     "text": [
      "Here is a product description based on the technical specifications, tailored for furniture retailers:\n",
      "\n",
      "\"Introducing our mid-century inspired office chair, crafted with high-quality materials. The shell and base are constructed from cast aluminum with a modified nylon PA6/PA66 coating, ensuring durability. The seat features HD36 foam for superior comfort.\"\n",
      "\n",
      "Here are the 7-character product IDs mentioned at the end of the description:\n",
      "\n",
      "* SWC-100\n",
      "* SWC-110\n"
     ]
    }
   ],
   "source": [
    "prompt = f\"\"\"\n",
    "Your task is to help a marketing team create a description for a retial website of a product based on technical fact sheet.\n",
    "\n",
    "Write a product description based on the information provided in technical specifications delimited by triple backticks.\n",
    "\n",
    "Description is intended for furniture retailers, so should be technical in nature and focus on the materials the product is constructed from.\n",
    "\n",
    "At the end of the description, include every 7-character product ID in the technical specification.\n",
    "Use at most 50 words. \n",
    "Technical specifications: ```{fact_sheet_chair}```\n",
    "\"\"\"\n",
    "response = get_completion(prompt)\n",
    "print(response)"
   ]
  },
  {
   "cell_type": "markdown",
   "metadata": {},
   "source": [
    "## Issue 3. Description needs a table of dimensions\n",
    "- Ask it to extract information and organize it in a table."
   ]
  },
  {
   "cell_type": "code",
   "execution_count": 7,
   "metadata": {},
   "outputs": [
    {
     "name": "stdout",
     "output_type": "stream",
     "text": [
      "Here is the product description and table based on the technical specifications:\n",
      "\n",
      "<div>\n",
      "\t<h2>Mid-Century Inspired Office Chair</h2>\n",
      "\t<p>The Mid-Century Inspired Office Chair is a part of a beautiful family of office furniture, featuring a stunning design that's perfect for home or business settings. Constructed from high-quality materials, this chair offers superior comfort and durability.</p>\n",
      "\t<p>The shell base glider is made from cast aluminum with a modified nylon PA6/PA66 coating, providing a sturdy foundation for the chair. The seat is crafted from HD36 foam, ensuring optimal support and comfort. Additionally, the pneumatic chair adjust allows for easy raise/lower action, making it perfect for offices or meeting rooms.</p>\n",
      "\t<p>The chair is available with various options to suit your needs, including soft or hard-floor caster options, medium or high-density seat foam, and armless or 8-position PU armrests. Whether you're looking for a stylish addition to your home office or a reliable piece of furniture for your business, this chair is an excellent choice.</p>\n",
      "\t<p>The Mid-Century Inspired Office Chair is qualified for contract use and comes in a range of finish options, including stainless steel, matte black, gloss white, and chrome. Its sleek design and durable construction make it perfect for any setting where style and functionality are essential.</p>\n",
      "\n",
      "**Product ID: SWC-100**\n",
      "\n",
      "**Product ID: SWC-110**\n",
      "</div>\n",
      "\n",
      "<table>\n",
      "\t<tr>\n",
      "\t\t<th>Dimension</th>\n",
      "\t\t<th>Measurement (inches)</th>\n",
      "\t</tr>\n",
      "\t<tr>\n",
      "\t\t<td>WIDTH</td>\n",
      "\t\t<td>20.87\"</td>\n",
      "\t</tr>\n",
      "\t<tr>\n",
      "\t\t<td>DEPTH</td>\n",
      "\t\t<td>20.08\"</td>\n",
      "\t</tr>\n",
      "\t<tr>\n",
      "\t\t<td>HEIGHT</td>\n",
      "\t\t<td>31.50\"</td>\n",
      "\t</tr>\n",
      "\t<tr>\n",
      "\t\t<td>SEAT HEIGHT</td>\n",
      "\t\t<td>17.32\"</td>\n",
      "\t</tr>\n",
      "\t<tr>\n",
      "\t\t<td>SEAT DEPTH</td>\n",
      "\t\t<td>16.14\"</td>\n",
      "\t</tr>\n",
      "</table>\n",
      "\n",
      "<table class=\"Product Dimensions\">\n",
      "\t<tr>\n",
      "\t\t<th>Dimension</th>\n",
      "\t\t<th>Measurement (inches)</th>\n",
      "\t</tr>\n",
      "\t<tr>\n",
      "\t\t<td>WIDTH</td>\n",
      "\t\t<td>20.87\"</td>\n",
      "\t</tr>\n",
      "\t<tr>\n",
      "\t\t<td>DEPTH</td>\n",
      "\t\t<td>20.08\"</td>\n",
      "\t</tr>\n",
      "\t<tr>\n",
      "\t\t<td>HEIGHT</td>\n",
      "\t\t<td>31.50\"</td>\n",
      "\t</tr>\n",
      "\t<tr>\n",
      "\t\t<td>SEAT HEIGHT</td>\n",
      "\t\t<td>17.32\"</td>\n",
      "\t</tr>\n",
      "\t<tr>\n",
      "\t\t<td>SEAT DEPTH</td>\n",
      "\t\t<td>16.14\"</td>\n",
      "\t</tr>\n",
      "</table>\n",
      "\n",
      "Note: I used HTML to format the description and table as requested, with a <div> element for the product description and a <table> element for the dimensions table.\n"
     ]
    }
   ],
   "source": [
    "prompt = f\"\"\"\n",
    "Your task is to help a marketing team create a description for a retail website of a product based on a technical fact sheet.\n",
    "\n",
    "Write a product description based on the information provided in the technical specifications delimited by triple backticks.\n",
    "\n",
    "The description is intended for furniture retailers, so should be technical in nature and focus on the materials the product is constructed from.\n",
    "\n",
    "At the end of the description, include every 7-character Product ID in the technical specification.\n",
    "\n",
    "After the description, include a table that gives the product's dimensions. The table should have two columns.In the first column include the name of the dimension. \n",
    "In the second column include the measurements in inches only.\n",
    "\n",
    "Give the table the title 'Product Dimensions'.\n",
    "\n",
    "Format everything as HTML that can be used in a website. Place the description in a <div> element.\n",
    "\n",
    "Technical specifications: ```{fact_sheet_chair}```\n",
    "\"\"\"\n",
    "\n",
    "response = get_completion(prompt)\n",
    "print(response)"
   ]
  },
  {
   "cell_type": "code",
   "execution_count": 8,
   "metadata": {},
   "outputs": [],
   "source": [
    "from IPython.display import display, HTML"
   ]
  },
  {
   "cell_type": "code",
   "execution_count": 9,
   "metadata": {},
   "outputs": [
    {
     "data": {
      "text/html": [
       "Here is the product description and table based on the technical specifications:\n",
       "\n",
       "<div>\n",
       "\t<h2>Mid-Century Inspired Office Chair</h2>\n",
       "\t<p>The Mid-Century Inspired Office Chair is a part of a beautiful family of office furniture, featuring a stunning design that's perfect for home or business settings. Constructed from high-quality materials, this chair offers superior comfort and durability.</p>\n",
       "\t<p>The shell base glider is made from cast aluminum with a modified nylon PA6/PA66 coating, providing a sturdy foundation for the chair. The seat is crafted from HD36 foam, ensuring optimal support and comfort. Additionally, the pneumatic chair adjust allows for easy raise/lower action, making it perfect for offices or meeting rooms.</p>\n",
       "\t<p>The chair is available with various options to suit your needs, including soft or hard-floor caster options, medium or high-density seat foam, and armless or 8-position PU armrests. Whether you're looking for a stylish addition to your home office or a reliable piece of furniture for your business, this chair is an excellent choice.</p>\n",
       "\t<p>The Mid-Century Inspired Office Chair is qualified for contract use and comes in a range of finish options, including stainless steel, matte black, gloss white, and chrome. Its sleek design and durable construction make it perfect for any setting where style and functionality are essential.</p>\n",
       "\n",
       "**Product ID: SWC-100**\n",
       "\n",
       "**Product ID: SWC-110**\n",
       "</div>\n",
       "\n",
       "<table>\n",
       "\t<tr>\n",
       "\t\t<th>Dimension</th>\n",
       "\t\t<th>Measurement (inches)</th>\n",
       "\t</tr>\n",
       "\t<tr>\n",
       "\t\t<td>WIDTH</td>\n",
       "\t\t<td>20.87\"</td>\n",
       "\t</tr>\n",
       "\t<tr>\n",
       "\t\t<td>DEPTH</td>\n",
       "\t\t<td>20.08\"</td>\n",
       "\t</tr>\n",
       "\t<tr>\n",
       "\t\t<td>HEIGHT</td>\n",
       "\t\t<td>31.50\"</td>\n",
       "\t</tr>\n",
       "\t<tr>\n",
       "\t\t<td>SEAT HEIGHT</td>\n",
       "\t\t<td>17.32\"</td>\n",
       "\t</tr>\n",
       "\t<tr>\n",
       "\t\t<td>SEAT DEPTH</td>\n",
       "\t\t<td>16.14\"</td>\n",
       "\t</tr>\n",
       "</table>\n",
       "\n",
       "<table class=\"Product Dimensions\">\n",
       "\t<tr>\n",
       "\t\t<th>Dimension</th>\n",
       "\t\t<th>Measurement (inches)</th>\n",
       "\t</tr>\n",
       "\t<tr>\n",
       "\t\t<td>WIDTH</td>\n",
       "\t\t<td>20.87\"</td>\n",
       "\t</tr>\n",
       "\t<tr>\n",
       "\t\t<td>DEPTH</td>\n",
       "\t\t<td>20.08\"</td>\n",
       "\t</tr>\n",
       "\t<tr>\n",
       "\t\t<td>HEIGHT</td>\n",
       "\t\t<td>31.50\"</td>\n",
       "\t</tr>\n",
       "\t<tr>\n",
       "\t\t<td>SEAT HEIGHT</td>\n",
       "\t\t<td>17.32\"</td>\n",
       "\t</tr>\n",
       "\t<tr>\n",
       "\t\t<td>SEAT DEPTH</td>\n",
       "\t\t<td>16.14\"</td>\n",
       "\t</tr>\n",
       "</table>\n",
       "\n",
       "Note: I used HTML to format the description and table as requested, with a <div> element for the product description and a <table> element for the dimensions table."
      ],
      "text/plain": [
       "<IPython.core.display.HTML object>"
      ]
     },
     "metadata": {},
     "output_type": "display_data"
    }
   ],
   "source": [
    "display(HTML(response))"
   ]
  },
  {
   "cell_type": "code",
   "execution_count": null,
   "metadata": {},
   "outputs": [],
   "source": []
  }
 ],
 "metadata": {
  "kernelspec": {
   "display_name": "Python 3 (ipykernel)",
   "language": "python",
   "name": "python3"
  },
  "language_info": {
   "codemirror_mode": {
    "name": "ipython",
    "version": 3
   },
   "file_extension": ".py",
   "mimetype": "text/x-python",
   "name": "python",
   "nbconvert_exporter": "python",
   "pygments_lexer": "ipython3",
   "version": "3.11.0"
  }
 },
 "nbformat": 4,
 "nbformat_minor": 2
}
